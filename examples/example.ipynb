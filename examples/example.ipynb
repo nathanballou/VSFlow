{
 "cells": [
  {
   "cell_type": "code",
   "execution_count": 1,
   "metadata": {},
   "outputs": [],
   "source": [
    "import subprocess\n",
    "import tempfile\n",
    "import os\n",
    "import pickle\n",
    "from dask.distributed import as_completed\n",
    "import coiled \n",
    "\n",
    "def run_vsflow(filename_and_content):\n",
    "    input_file_name, file_content = filename_and_content\n",
    "\n",
    "    print(\"Processing:\", input_file_name)\n",
    "    \n",
    "    try:\n",
    "        with tempfile.NamedTemporaryFile(delete=False, mode=\"w+\", suffix=\".sdf\") as tmp_input_file, \\\n",
    "             tempfile.NamedTemporaryFile(delete=False, mode=\"wb+\", suffix=\".vsdb\") as tmp_output_file:\n",
    "\n",
    "            tmp_input_file.write(file_content)\n",
    "            tmp_input_file.flush()\n",
    "\n",
    "            command = [\"vsflow\", \"preparedb\", \"-i\", tmp_input_file.name, \"-o\", tmp_output_file.name, \"-s\", \"-can\", \"-np\", \"4\"]\n",
    "            result = subprocess.run(command, stdout=subprocess.PIPE, stderr=subprocess.PIPE)\n",
    "\n",
    "            if result.returncode == 0 and os.path.getsize(tmp_output_file.name) > 0:\n",
    "                print(f\"vsflow executed successfully for {input_file_name}.\")\n",
    "                with open(tmp_output_file.name, 'rb') as f:\n",
    "                    return input_file_name, pickle.dumps(f.read())\n",
    "            else:\n",
    "                print(f\"vsflow failed for {input_file_name}. Return code: {result.returncode}\")\n",
    "                if result.stdout:\n",
    "                    print(\"Output:\", result.stdout.decode())\n",
    "                if result.stderr:\n",
    "                    print(\"Error:\", result.stderr.decode())\n",
    "\n",
    "    except Exception as e:\n",
    "        print(f\"An error occurred: {e}\")\n",
    "\n",
    "    finally:\n",
    "        # Clean up temporary files\n",
    "        try:\n",
    "            os.remove(tmp_input_file.name)\n",
    "            os.remove(tmp_output_file.name)\n",
    "        except OSError as e:\n",
    "            print(f\"Error cleaning up temporary files: {e}\")\n",
    "\n",
    "    return input_file_name, None"
   ]
  },
  {
   "cell_type": "code",
   "execution_count": 2,
   "metadata": {},
   "outputs": [],
   "source": [
    "import coiled \n",
    "\n",
    "coiled.create_software_environment(\n",
    "    name=\"vsflow\",\n",
    "    container=\"ghcr.io/nathanballou/vsflow:latest\",\n",
    ")"
   ]
  },
  {
   "cell_type": "code",
   "execution_count": 3,
   "metadata": {},
   "outputs": [
    {
     "data": {
      "application/vnd.jupyter.widget-view+json": {
       "model_id": "772d88ac7cf94205b917a485f0c7346a",
       "version_major": 2,
       "version_minor": 0
      },
      "text/plain": [
       "Output()"
      ]
     },
     "metadata": {},
     "output_type": "display_data"
    },
    {
     "data": {
      "text/html": [
       "<pre style=\"white-space:pre;overflow-x:auto;line-height:normal;font-family:Menlo,'DejaVu Sans Mono',consolas,'Courier New',monospace\"></pre>\n"
      ],
      "text/plain": []
     },
     "metadata": {},
     "output_type": "display_data"
    }
   ],
   "source": [
    "cluster = coiled.Cluster(n_workers=10,\n",
    "                         name = \"testing\",\n",
    "                         software = \"vsflow\",\n",
    "                         worker_options={\"nthreads\": 1}, #Important\n",
    "                        )\n",
    "\n",
    "client = cluster.get_client()"
   ]
  },
  {
   "cell_type": "code",
   "execution_count": 5,
   "metadata": {},
   "outputs": [],
   "source": [
    "destination_directory = \"outputs\"\n",
    "input_files = [\"fda.sdf\", \"fda copy.sdf\"] + [f\"fda copy {i}.sdf\" for i in range(2, 20)]\n",
    "\n",
    "file_contents_with_names = [(file, open(file, 'r').read()) for file in input_files]\n",
    "\n",
    "file_contents_with_names = client.scatter(file_contents_with_names)\n",
    "\n",
    "pickle_object_futures = client.map(run_vsflow, file_contents_with_names)\n",
    "\n",
    "for future in as_completed(pickle_object_futures):\n",
    "    input_file_name, pickle_object = future.result()\n",
    "    with open(os.path.join(destination_directory, os.path.splitext(input_file_name)[0] + \".vsdb\"), 'wb') as out_file:\n",
    "        out_file.write(pickle_object)"
   ]
  },
  {
   "cell_type": "code",
   "execution_count": null,
   "metadata": {},
   "outputs": [],
   "source": [
    "# client.restart()"
   ]
  },
  {
   "cell_type": "code",
   "execution_count": null,
   "metadata": {},
   "outputs": [],
   "source": [
    "# for pickle_object in  map(run_vsflow, file_contents_with_names):\n",
    "#     input_file_name, object = pickle_object\n",
    "#     with open(os.path.join(destination_directory, os.path.splitext(input_file_name)[0] + \".vsdb\"), 'wb') as out_file:\n",
    "#         out_file.write(object)\n",
    "#     break"
   ]
  },
  {
   "cell_type": "code",
   "execution_count": null,
   "metadata": {},
   "outputs": [],
   "source": []
  }
 ],
 "metadata": {
  "kernelspec": {
   "display_name": "vsflow",
   "language": "python",
   "name": "python3"
  },
  "language_info": {
   "codemirror_mode": {
    "name": "ipython",
    "version": 3
   },
   "file_extension": ".py",
   "mimetype": "text/x-python",
   "name": "python",
   "nbconvert_exporter": "python",
   "pygments_lexer": "ipython3",
   "version": "3.9.18"
  }
 },
 "nbformat": 4,
 "nbformat_minor": 2
}
